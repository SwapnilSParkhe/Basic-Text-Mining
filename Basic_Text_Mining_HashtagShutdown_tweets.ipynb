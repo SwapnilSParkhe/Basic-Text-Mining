{
 "cells": [
  {
   "cell_type": "markdown",
   "metadata": {},
   "source": [
    "## -------------------Name: Swapnil Shashank Parkhe (UIN: 660014865)-------------------------"
   ]
  },
  {
   "cell_type": "markdown",
   "metadata": {},
   "source": [
    "## IDS566 - HW1"
   ]
  },
  {
   "cell_type": "markdown",
   "metadata": {},
   "source": [
    "## Importing relevant libraries"
   ]
  },
  {
   "cell_type": "code",
   "execution_count": 311,
   "metadata": {
    "collapsed": true
   },
   "outputs": [],
   "source": [
    "#For General purpose\n",
    "import os\n",
    "import json\n",
    "\n",
    "#For Math calculations and data manipulations \n",
    "import numpy as np\n",
    "import pandas as pd\n",
    "import re\n",
    "\n",
    "#For Machine learning algos\n",
    "from sklearn.feature_extraction.text import CountVectorizer, TfidfVectorizer\n",
    "from sklearn.decomposition import TruncatedSVD\n",
    "\n",
    "#For Plotting\n",
    "import matplotlib\n",
    "import matplotlib.pyplot as plt\n",
    "%matplotlib inline"
   ]
  },
  {
   "cell_type": "markdown",
   "metadata": {},
   "source": [
    "## Importing data"
   ]
  },
  {
   "cell_type": "code",
   "execution_count": 6,
   "metadata": {},
   "outputs": [
    {
     "name": "stdout",
     "output_type": "stream",
     "text": [
      "<class 'list'>\n",
      "5000\n"
     ]
    }
   ],
   "source": [
    "shutdown=json.load(open(\"shutdown.json\"))\n",
    "\n",
    "print(type(shutdown))\n",
    "print(len(shutdown))"
   ]
  },
  {
   "cell_type": "markdown",
   "metadata": {},
   "source": [
    "## Q1)  Load all tweets, and retweet usernames; Top 5 most popular retweet usernames?"
   ]
  },
  {
   "cell_type": "code",
   "execution_count": 504,
   "metadata": {},
   "outputs": [
    {
     "name": "stdout",
     "output_type": "stream",
     "text": [
      "Top 5-Most popular retweet usernames are ['FoxNews', 'SenDougJones', 'peterdaou', 'TheDailyEdge', 'BanditRandom']\n"
     ]
    }
   ],
   "source": [
    "#Loading (and storing) all tweets and usernames\n",
    "tweets=[item[\"text\"] for item in shutdown]\n",
    "retweet_usernames=[item[\"retweeted_status\"]['user']['screen_name'] \n",
    "                  for item in shutdown if 'retweeted_status' in item.keys()]\n",
    "\n",
    "#Top 5 most popular retweet usernames (based on frequency)\n",
    "print(\"Top 5-Most popular retweet usernames are\",\n",
    "      list(pd.DataFrame(retweet_usernames,columns=['Freq_Usernames'])['Freq_Usernames'].value_counts().head().index))"
   ]
  },
  {
   "cell_type": "markdown",
   "metadata": {},
   "source": [
    "## Q2) Remove duplicate tweets. How many tweets are remained?"
   ]
  },
  {
   "cell_type": "code",
   "execution_count": 48,
   "metadata": {},
   "outputs": [
    {
     "name": "stdout",
     "output_type": "stream",
     "text": [
      "Before de-duplication: 5000\n",
      "After de-duplication : 919\n"
     ]
    }
   ],
   "source": [
    "#Removing duplicate tweets (based on 'text' key)\n",
    "tweets_unique=list(set(tweets))\n",
    "\n",
    "#No. of tweets before and after de-duplication\n",
    "print(\"Before de-duplication:\",len(tweets))\n",
    "print(\"After de-duplication :\",len(tweets_unique))"
   ]
  },
  {
   "cell_type": "markdown",
   "metadata": {},
   "source": [
    "## Q3) Remove URLs and mentions and rename hashtag sign to ‘hashtag_’. Vectorize tweets using binary vectorization. What are top 5 popular hashtags? \n"
   ]
  },
  {
   "cell_type": "code",
   "execution_count": 503,
   "metadata": {},
   "outputs": [
    {
     "name": "stdout",
     "output_type": "stream",
     "text": [
      "Top 5-Most popular hashtags are ['hashtag_shutdown', 'hashtag_trumpshutdown', 'hashtag_trump', 'hashtag_schumershutdown', 'hashtag_shutdown2018']\n"
     ]
    }
   ],
   "source": [
    "#Creating pattern objects for URL, mentions(@), hastag(#), tokens(size2)\n",
    "pattern_url = re.compile('http[s]?://(?:[a-zA-Z]|[0-9]|[$-_@.&+]|[!*\\(\\),]|(?:%[0-9a-fA-F][0-9a-fA-F]))+', re.UNICODE | re.IGNORECASE)\n",
    "pattern_mention = re.compile('(?<=^|(?<=[^a-zA-Z0-9-_\\.]))@([A-Za-z]+[A-Za-z0-9]+)', re.UNICODE | re.IGNORECASE)\n",
    "pattern_hashtag = re.compile('(?<=^|(?<=[^a-zA-Z0-9-_\\.]))#([A-Za-z]+[A-Za-z0-9]+)', re.UNICODE | re.IGNORECASE)\n",
    "pattern_token = re.compile('\\w\\w+', re.UNICODE | re.IGNORECASE)\n",
    "\n",
    "#Removing URLs(in first operation) and mentions(in second operation)\n",
    "temp1a = [pattern_mention.sub('', item) for item in [pattern_url.sub('', item) for item in tweets_unique]]\n",
    "\n",
    "#Renaming hashtags(#) to hashtag_\n",
    "tweets_unique_clean = [pattern_hashtag.sub(r'hashtag_\\1', item) for item in temp1a]\n",
    "\n",
    "#Vectorizing tweets using binary vectorization\n",
    "BinVect = CountVectorizer(binary=True)\n",
    "tweets_unique_BinVect = BinVect.fit_transform(tweets_unique_clean)\n",
    " \n",
    "#Top 5 popular hashtags - (based on de-duplicated tweets list)\n",
    "CntVect = CountVectorizer()\n",
    "tweets_unique_CntVect = CntVect.fit_transform(tweets_unique_clean)\n",
    "\n",
    "df=pd.DataFrame(tweets_unique_CntVect.toarray(),columns=CntVect.get_feature_names()) #Creating pandas DF\n",
    "df_hashtag_= df[df.columns[df.columns.to_series().str.contains('hashtag_')]] #Subsetting \"hashtag_\" columns\n",
    "df_hashtag_counts = pd.DataFrame(df_hashtag_.apply(sum,axis=0), index=df_hashtag_.apply(sum,axis=0).index, columns=[\"count\"])\n",
    "print(\"Top 5-Most popular hashtags are\", list(df_hashtag_counts[\"count\"].sort_values(ascending=False).head().index))"
   ]
  },
  {
   "cell_type": "markdown",
   "metadata": {},
   "source": [
    "## Q4) Map document to term matrix to 2D space and plot it using binary vectorization. Repeat that for count vectorization and TF-IDF vectorization. Analyze your result\n",
    "Analysing below results: Overall, in all the three parts for Q4 above, LSA(SVD) is helping us reduce dimensionality from 3069 features to 2 features here such that LSA is doing additional weighting and is able to find latent links:\n",
    "1. For first plot (green), we could see 3 distinct clusters -> possibility of 3 distinct classes based on the Bineary vectorized features\n",
    "2. For second plot (red), we could see 4 distinct clusters -> possibility of 4 distinct classes based on the Count Vectorized features\n",
    "3. For third plot (blue), we could see 2 distinct clusters -> possibility of 2 distinct classes based on the Tfidf features"
   ]
  },
  {
   "cell_type": "code",
   "execution_count": 350,
   "metadata": {},
   "outputs": [
    {
     "name": "stdout",
     "output_type": "stream",
     "text": [
      "Dimension (919, 3069) -> (919, 2)\n"
     ]
    },
    {
     "data": {
      "image/png": "[encoded data removed]",
      "text/plain": [
       "<matplotlib.figure.Figure at 0x122e6ff60>"
      ]
     },
     "metadata": {},
     "output_type": "display_data"
    }
   ],
   "source": [
    "#Reduce dimensions of \"tweets_unique_BinVect\" DTM created above in Q3 part\n",
    "lsa_1 = TruncatedSVD(2)\n",
    "tweets_unique_BinVect_2d = lsa_1.fit_transform(tweets_unique_BinVect)\n",
    "print(\"Dimension %s -> %s\" % (tweets_unique_BinVect.shape, tweets_unique_BinVect_2d.shape))\n",
    "\n",
    "plt.scatter(tweets_unique_BinVect_2d[:, 1], tweets_unique_BinVect_2d[:, 0], 20, c = \"green\")\n",
    "plt.title('DTM to 2D space - BinaryVectorizer')\n",
    "plt.show()"
   ]
  },
  {
   "cell_type": "code",
   "execution_count": 351,
   "metadata": {},
   "outputs": [
    {
     "name": "stdout",
     "output_type": "stream",
     "text": [
      "Dimension (919, 3069) -> (919, 2)\n"
     ]
    },
    {
     "data": {
      "image/png": "[encoded data removed]",
      "text/plain": [
       "<matplotlib.figure.Figure at 0x109ec2ef0>"
      ]
     },
     "metadata": {},
     "output_type": "display_data"
    }
   ],
   "source": [
    "#Reduce dimensions of \"tweets_unique_CntVect\" DTM created above in Q3 part\n",
    "lsa_2 = TruncatedSVD(2)\n",
    "tweets_unique_CntVect_2d = lsa_2.fit_transform(tweets_unique_CntVect)\n",
    "print(\"Dimension %s -> %s\" % (tweets_unique_CntVect.shape, tweets_unique_CntVect_2d.shape))\n",
    "\n",
    "plt.scatter(tweets_unique_CntVect_2d[:, 1], tweets_unique_CntVect_2d[:, 0], 20, c = \"red\")\n",
    "plt.title('DTM to 2D space - CountVectorizer')\n",
    "plt.show()"
   ]
  },
  {
   "cell_type": "code",
   "execution_count": 531,
   "metadata": {},
   "outputs": [
    {
     "name": "stdout",
     "output_type": "stream",
     "text": [
      "Dimension (919, 3069) -> (919, 2)\n"
     ]
    },
    {
     "data": {
      "image/png": "[encoded data removed]",
      "text/plain": [
       "<matplotlib.figure.Figure at 0x122d88b70>"
      ]
     },
     "metadata": {},
     "output_type": "display_data"
    }
   ],
   "source": [
    "#Reduce dimensions of \"tweets_unique_TfidfVect\" DTM created below\n",
    "TfidfVect = TfidfVectorizer(binary = True)\n",
    "tweets_unique_TfidfVect = TfidfVect.fit_transform(tweets_unique_clean)\n",
    "\n",
    "lsa_3 = TruncatedSVD(2)\n",
    "tweets_unique_TfidfVect_2d = lsa_3.fit_transform(tweets_unique_TfidfVect)\n",
    "print(\"Dimension %s -> %s\" % (tweets_unique_TfidfVect.shape, tweets_unique_TfidfVect_2d.shape))\n",
    "\n",
    "plt.scatter(tweets_unique_TfidfVect_2d[:, 1], tweets_unique_TfidfVect_2d[:, 0], 20, c = \"blue\")\n",
    "plt.title('DTM to 2D space - Tfidf')\n",
    "plt.show()"
   ]
  },
  {
   "cell_type": "markdown",
   "metadata": {},
   "source": []
  },
  {
   "cell_type": "markdown",
   "metadata": {},
   "source": [
    "## Q5) Co-occurrence analysis: Find which two hashtags appear together in a same tweet mostly? Which two are the second most? Analyze your results.\n",
    "Analyzing below resuls: We could see the combination of 'hashtag_shutdown' with other hashtags is usually very popular (its also because of a higher frequency of 'hashtag_shutdown' itself). Also, it reflects how people on twitter reacted to President Trump's tweet pertaining to statement on Twitter(I would like to see Govt shutdown) including hashtags for CHIP and DREAMers frequenctly with hashtag for shutdown. Also, the result for this data are highly skewed (with 686 coccurrences for #shutdown and #chip, whereas other coccurrrences are less than 1/3red of this number\n"
   ]
  },
  {
   "cell_type": "code",
   "execution_count": 530,
   "metadata": {},
   "outputs": [
    {
     "name": "stdout",
     "output_type": "stream",
     "text": [
      "1 th most popular hashtag combination is ['hashtag_chip', 'hashtag_shutdown']\n",
      "2 th most popular hashtag combination is ['hashtag_dreamers', 'hashtag_shutdown']\n"
     ]
    }
   ],
   "source": [
    "#Creating a pandas dataframe to store DTM first; then subsetting 'hashtag_' columns\n",
    "df=pd.DataFrame(tweets_unique_CntVect.toarray(),columns=CntVect.get_feature_names()) #Creating pandas DF\n",
    "df_hashtag_= df[df.columns[df.columns.to_series().str.contains('hashtag_')]] #Subsetting \"hashtag_\" columns\n",
    "\n",
    "#Creating the coccurence matrix; filling diagonal values with 0 (as occurrence of A with A is freq of A across docs and is trivial)\n",
    "df_cooccurrence = df2_hashtag_.T.dot(df2_hashtag_)\n",
    "np.fill_diagonal(df_cooccurrence.values,0)\n",
    "\n",
    "#Formulating a function to find the 'hashtag_' combination that occur first-most and second-most times respectively\n",
    "def Nth_most_coccurrence(data, n):\n",
    "    '''\n",
    "    data: input cross-tabulated data\n",
    "    n: nth most coccurrence\n",
    "    corresponding combination of 'hashtag_' will be printed out\n",
    "    '''\n",
    "    print(n,\"th most popular hashtag combination is\",\n",
    "          list(data.stack().drop_duplicates().sort_values(ascending=False).index[n-1]))\n",
    "    \n",
    "Nth_most_coccurrence(df_cooccurrence, 1)\n",
    "Nth_most_coccurrence(df_cooccurrence, 2)"
   ]
  },
  {
   "cell_type": "code",
   "execution_count": 540,
   "metadata": {},
   "outputs": [
    {
     "data": {
      "text/plain": [
       "hashtag_chip                hashtag_shutdown            686\n",
       "hashtag_dreamers            hashtag_shutdown            173\n",
       "hashtag_chip                hashtag_dreamers            138\n",
       "hashtag_shutdown            hashtag_trumpshutdown       134\n",
       "hashtag_government          hashtag_shutdown            111\n",
       "hashtag_schumershutdown     hashtag_shutdown             85\n",
       "hashtag_fox10phoenix        hashtag_government           79\n",
       "hashtag_shutdown            hashtag_shutdown2018         55\n",
       "hashtag_billion             hashtag_borderwall           54\n",
       "hashtag_daca                hashtag_shutdown             48\n",
       "hashtag_governmentshutdown  hashtag_shutdown             38\n",
       "hashtag_dc                  hashtag_shutdown             24\n",
       "hashtag_government          hashtag_shutdown2018         23\n",
       "hashtag_america             hashtag_government           22\n",
       "hashtag_gop                 hashtag_shutdown             21\n",
       "hashtag_daca                hashtag_trumpshutdown        20\n",
       "hashtag_trump               hashtag_trumpshutdown        19\n",
       "hashtag_gopshutdown         hashtag_shutdown             18\n",
       "                            hashtag_trumpshutdown        17\n",
       "hashtag_breaking            hashtag_shutdown             16\n",
       "hashtag_maga                hashtag_trump                15\n",
       "hashtag_daca                hashtag_trump                14\n",
       "                            hashtag_impeachtrump         13\n",
       "hashtag_shutdown            hashtag_usmilitary           12\n",
       "hashtag_democrats           hashtag_shutdown             11\n",
       "hashtag_dem                 hashtag_shutdown             10\n",
       "hashtag_gop                 hashtag_shutitdown            9\n",
       "hashtag_ea                  hashtag_shutdown              8\n",
       "hashtag_fda                 hashtag_foia                  7\n",
       "hashtag_breaking            hashtag_daca                  6\n",
       "hashtag_balancedbudget      hashtag_budget                5\n",
       "hashtag_arizona             hashtag_shutdown              4\n",
       "hashtag_ame                 hashtag_midtermelections      3\n",
       "hashtag_al                  hashtag_usa                   2\n",
       "hashtag_africanamericans    hashtag_getwoke               1\n",
       "                            hashtag_africanamericans      0\n",
       "dtype: int64"
      ]
     },
     "execution_count": 540,
     "metadata": {},
     "output_type": "execute_result"
    }
   ],
   "source": [
    "df_cooccurrence.stack().drop_duplicates().sort_values(ascending=False)"
   ]
  },
  {
   "cell_type": "markdown",
   "metadata": {},
   "source": [
    "## Q6) What did you learn from this assignment? What is the conclusion?\n",
    "I learnt that in order to analyse a text or perform text mining, we need to follow a series of steps starting from understanding the problem and requirement correctly -> importing and gleaning text data appropriately -> cleaning it to get to interpretable and sensible form (replacing urls, hashtags, etc.) -> Vectorize it using different methods/metrics -> Visualise it and perform an exploratory data analysis to see how text's features are behaving across instances, so as to make a sense out it and take decision for relevant text analytics based models. In conclusion, I would say that we need to know what our question of focus is by asking the right and enough questions, and how our text is structured and find patterns through exploratory data analysis (univariates, bivariates, visual/numerical, etc.) before even applying any machine leanrning based models. "
   ]
  },
  {
   "cell_type": "code",
   "execution_count": null,
   "metadata": {},
   "outputs": [],
   "source": []
  },
  {
   "cell_type": "code",
   "execution_count": null,
   "metadata": {
    "collapsed": true
   },
   "outputs": [],
   "source": []
  }
 ],
 "metadata": {
  "kernelspec": {
   "display_name": "Python 3",
   "language": "python",
   "name": "python3"
  },
  "language_info": {
   "codemirror_mode": {
    "name": "ipython",
    "version": 3
   },
   "file_extension": ".py",
   "mimetype": "text/x-python",
   "name": "python",
   "nbconvert_exporter": "python",
   "pygments_lexer": "ipython3",
   "version": "3.6.1"
  }
 },
 "nbformat": 4,
 "nbformat_minor": 2
}
